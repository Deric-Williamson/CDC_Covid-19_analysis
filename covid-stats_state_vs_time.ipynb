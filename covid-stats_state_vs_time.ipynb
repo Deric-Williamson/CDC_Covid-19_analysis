{
 "cells": [
  {
   "cell_type": "markdown",
   "metadata": {},
   "source": [
    "## Import"
   ]
  },
  {
   "cell_type": "code",
   "execution_count": 1,
   "metadata": {},
   "outputs": [],
   "source": [
    "import pandas as pd\n",
    "import numpy as np"
   ]
  },
  {
   "cell_type": "markdown",
   "metadata": {},
   "source": [
    "https://data.cdc.gov/Case-Surveillance/United-States-COVID-19-Cases-and-Deaths-by-State-o/9mfq-cb36"
   ]
  },
  {
   "cell_type": "code",
   "execution_count": 2,
   "metadata": {},
   "outputs": [
    {
     "data": {
      "text/html": [
       "<div>\n",
       "<style scoped>\n",
       "    .dataframe tbody tr th:only-of-type {\n",
       "        vertical-align: middle;\n",
       "    }\n",
       "\n",
       "    .dataframe tbody tr th {\n",
       "        vertical-align: top;\n",
       "    }\n",
       "\n",
       "    .dataframe thead th {\n",
       "        text-align: right;\n",
       "    }\n",
       "</style>\n",
       "<table border=\"1\" class=\"dataframe\">\n",
       "  <thead>\n",
       "    <tr style=\"text-align: right;\">\n",
       "      <th></th>\n",
       "      <th>submission_date</th>\n",
       "      <th>state</th>\n",
       "      <th>tot_cases</th>\n",
       "      <th>tot_death</th>\n",
       "      <th>created_at</th>\n",
       "    </tr>\n",
       "  </thead>\n",
       "  <tbody>\n",
       "    <tr>\n",
       "      <th>0</th>\n",
       "      <td>1/25/2020</td>\n",
       "      <td>OR</td>\n",
       "      <td>0</td>\n",
       "      <td>0</td>\n",
       "      <td>3/26/2020 16:22</td>\n",
       "    </tr>\n",
       "    <tr>\n",
       "      <th>1</th>\n",
       "      <td>7/23/2020</td>\n",
       "      <td>KY</td>\n",
       "      <td>25147</td>\n",
       "      <td>684</td>\n",
       "      <td>7/24/2020 14:18</td>\n",
       "    </tr>\n",
       "    <tr>\n",
       "      <th>2</th>\n",
       "      <td>2/1/2021</td>\n",
       "      <td>DC</td>\n",
       "      <td>37008</td>\n",
       "      <td>916</td>\n",
       "      <td>2/2/2021 14:51</td>\n",
       "    </tr>\n",
       "    <tr>\n",
       "      <th>3</th>\n",
       "      <td>1/10/2021</td>\n",
       "      <td>AZ</td>\n",
       "      <td>618546</td>\n",
       "      <td>10141</td>\n",
       "      <td>1/11/2021 15:01</td>\n",
       "    </tr>\n",
       "    <tr>\n",
       "      <th>4</th>\n",
       "      <td>2/2/2021</td>\n",
       "      <td>IL</td>\n",
       "      <td>1130917</td>\n",
       "      <td>21336</td>\n",
       "      <td>2/3/2021 14:55</td>\n",
       "    </tr>\n",
       "    <tr>\n",
       "      <th>...</th>\n",
       "      <td>...</td>\n",
       "      <td>...</td>\n",
       "      <td>...</td>\n",
       "      <td>...</td>\n",
       "      <td>...</td>\n",
       "    </tr>\n",
       "    <tr>\n",
       "      <th>28315</th>\n",
       "      <td>2/9/2020</td>\n",
       "      <td>WA</td>\n",
       "      <td>1</td>\n",
       "      <td>0</td>\n",
       "      <td>3/26/2020 16:22</td>\n",
       "    </tr>\n",
       "    <tr>\n",
       "      <th>28316</th>\n",
       "      <td>10/11/2020</td>\n",
       "      <td>CT</td>\n",
       "      <td>60038</td>\n",
       "      <td>4530</td>\n",
       "      <td>10/12/2020 14:07</td>\n",
       "    </tr>\n",
       "    <tr>\n",
       "      <th>28317</th>\n",
       "      <td>2/9/2020</td>\n",
       "      <td>CA</td>\n",
       "      <td>6</td>\n",
       "      <td>0</td>\n",
       "      <td>3/26/2020 16:22</td>\n",
       "    </tr>\n",
       "    <tr>\n",
       "      <th>28318</th>\n",
       "      <td>4/2/2020</td>\n",
       "      <td>WA</td>\n",
       "      <td>5683</td>\n",
       "      <td>261</td>\n",
       "      <td>4/1/2020 16:22</td>\n",
       "    </tr>\n",
       "    <tr>\n",
       "      <th>28319</th>\n",
       "      <td>7/31/2020</td>\n",
       "      <td>ME</td>\n",
       "      <td>3937</td>\n",
       "      <td>123</td>\n",
       "      <td>8/1/2020 14:38</td>\n",
       "    </tr>\n",
       "  </tbody>\n",
       "</table>\n",
       "<p>28320 rows × 5 columns</p>\n",
       "</div>"
      ],
      "text/plain": [
       "      submission_date state  tot_cases  tot_death        created_at\n",
       "0           1/25/2020    OR          0          0   3/26/2020 16:22\n",
       "1           7/23/2020    KY      25147        684   7/24/2020 14:18\n",
       "2            2/1/2021    DC      37008        916    2/2/2021 14:51\n",
       "3           1/10/2021    AZ     618546      10141   1/11/2021 15:01\n",
       "4            2/2/2021    IL    1130917      21336    2/3/2021 14:55\n",
       "...               ...   ...        ...        ...               ...\n",
       "28315        2/9/2020    WA          1          0   3/26/2020 16:22\n",
       "28316      10/11/2020    CT      60038       4530  10/12/2020 14:07\n",
       "28317        2/9/2020    CA          6          0   3/26/2020 16:22\n",
       "28318        4/2/2020    WA       5683        261    4/1/2020 16:22\n",
       "28319       7/31/2020    ME       3937        123    8/1/2020 14:38\n",
       "\n",
       "[28320 rows x 5 columns]"
      ]
     },
     "execution_count": 2,
     "metadata": {},
     "output_type": "execute_result"
    }
   ],
   "source": [
    "df = pd.read_csv('data/United_States_COVID-19_Cases_and_Deaths_by_State_over_Time.csv')\n",
    "df"
   ]
  },
  {
   "cell_type": "markdown",
   "metadata": {},
   "source": [
    "## Cleaning"
   ]
  },
  {
   "cell_type": "code",
   "execution_count": 3,
   "metadata": {},
   "outputs": [],
   "source": [
    "df.drop(columns=['created_at'], inplace=True)"
   ]
  },
  {
   "cell_type": "code",
   "execution_count": 4,
   "metadata": {},
   "outputs": [
    {
     "name": "stdout",
     "output_type": "stream",
     "text": [
      "<class 'pandas.core.frame.DataFrame'>\n",
      "RangeIndex: 28320 entries, 0 to 28319\n",
      "Data columns (total 4 columns):\n",
      " #   Column           Non-Null Count  Dtype \n",
      "---  ------           --------------  ----- \n",
      " 0   submission_date  28320 non-null  object\n",
      " 1   state            28320 non-null  object\n",
      " 2   tot_cases        28320 non-null  int64 \n",
      " 3   tot_death        28320 non-null  int64 \n",
      "dtypes: int64(2), object(2)\n",
      "memory usage: 885.1+ KB\n"
     ]
    }
   ],
   "source": [
    "df.info()"
   ]
  },
  {
   "cell_type": "markdown",
   "metadata": {},
   "source": [
    "### state"
   ]
  },
  {
   "cell_type": "markdown",
   "metadata": {},
   "source": [
    "The 'state' feature has the 50 states plus these other 10 categories:  \n",
    "> AS = American Samoa  \n",
    "> DC = District of Columbia  \n",
    "> FSM = Federated States of Micronesia  \n",
    "> GU = Guam  \n",
    "> MP = Northern Mariana Islands  \n",
    "> NYC = New York City  \n",
    "> PR = Puerto Rico  \n",
    "> PW = Palau  \n",
    "> RMI = Marshall Islands  \n",
    "> VI = Virgin Islands"
   ]
  },
  {
   "cell_type": "code",
   "execution_count": 42,
   "metadata": {},
   "outputs": [],
   "source": [
    "other_territories = ['AS', 'FSM', 'GU', 'MP', 'PR', 'PW', 'RMI', 'VI']\n",
    "df = df[~df['state'].isin(other_territories)]\n",
    "\n",
    "df['state'] = df['state'].replace('NYC','NY')"
   ]
  },
  {
   "cell_type": "markdown",
   "metadata": {},
   "source": [
    "The 'state' feature now includes the 50 states plus DC"
   ]
  },
  {
   "cell_type": "code",
   "execution_count": null,
   "metadata": {},
   "outputs": [],
   "source": []
  }
 ],
 "metadata": {
  "kernelspec": {
   "display_name": "Python 3",
   "language": "python",
   "name": "python3"
  },
  "language_info": {
   "codemirror_mode": {
    "name": "ipython",
    "version": 3
   },
   "file_extension": ".py",
   "mimetype": "text/x-python",
   "name": "python",
   "nbconvert_exporter": "python",
   "pygments_lexer": "ipython3",
   "version": "3.6.9"
  },
  "toc": {
   "base_numbering": 1,
   "nav_menu": {},
   "number_sections": true,
   "sideBar": true,
   "skip_h1_title": false,
   "title_cell": "Table of Contents",
   "title_sidebar": "Contents",
   "toc_cell": false,
   "toc_position": {},
   "toc_section_display": true,
   "toc_window_display": true
  }
 },
 "nbformat": 4,
 "nbformat_minor": 4
}
