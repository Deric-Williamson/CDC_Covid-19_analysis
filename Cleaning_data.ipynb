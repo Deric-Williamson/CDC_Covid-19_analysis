{
 "cells": [
  {
   "cell_type": "markdown",
   "metadata": {},
   "source": []
  },
  {
   "cell_type": "markdown",
   "metadata": {},
   "source": [
    "R v D states.  \n",
    "State Population  "
   ]
  },
  {
   "cell_type": "markdown",
   "metadata": {},
   "source": [
    "## Import"
   ]
  },
  {
   "cell_type": "code",
   "execution_count": 1,
   "metadata": {},
   "outputs": [],
   "source": [
    "import pandas as pd\n",
    "import numpy as np"
   ]
  },
  {
   "cell_type": "code",
   "execution_count": 2,
   "metadata": {},
   "outputs": [
    {
     "name": "stderr",
     "output_type": "stream",
     "text": [
      "C:\\Users\\Deric\\anaconda3\\envs\\learn-env\\lib\\site-packages\\IPython\\core\\interactiveshell.py:3343: DtypeWarning: Columns (18) have mixed types.Specify dtype option on import or set low_memory=False.\n",
      "  exec(code_obj, self.user_global_ns, self.user_ns)\n"
     ]
    },
    {
     "data": {
      "text/html": [
       "<div>\n",
       "<style scoped>\n",
       "    .dataframe tbody tr th:only-of-type {\n",
       "        vertical-align: middle;\n",
       "    }\n",
       "\n",
       "    .dataframe tbody tr th {\n",
       "        vertical-align: top;\n",
       "    }\n",
       "\n",
       "    .dataframe thead th {\n",
       "        text-align: right;\n",
       "    }\n",
       "</style>\n",
       "<table border=\"1\" class=\"dataframe\">\n",
       "  <thead>\n",
       "    <tr style=\"text-align: right;\">\n",
       "      <th></th>\n",
       "      <th>case_month</th>\n",
       "      <th>res_state</th>\n",
       "      <th>state_fips_code</th>\n",
       "      <th>res_county</th>\n",
       "      <th>county_fips_code</th>\n",
       "      <th>age_group</th>\n",
       "      <th>sex</th>\n",
       "      <th>race</th>\n",
       "      <th>ethnicity</th>\n",
       "      <th>case_positive_specimen_interval</th>\n",
       "      <th>case_onset_interval</th>\n",
       "      <th>process</th>\n",
       "      <th>exposure_yn</th>\n",
       "      <th>current_status</th>\n",
       "      <th>symptom_status</th>\n",
       "      <th>hosp_yn</th>\n",
       "      <th>icu_yn</th>\n",
       "      <th>death_yn</th>\n",
       "      <th>underlying_conditions_yn</th>\n",
       "    </tr>\n",
       "  </thead>\n",
       "  <tbody>\n",
       "    <tr>\n",
       "      <th>0</th>\n",
       "      <td>2020-02</td>\n",
       "      <td>NaN</td>\n",
       "      <td>NaN</td>\n",
       "      <td>NaN</td>\n",
       "      <td>NaN</td>\n",
       "      <td>NaN</td>\n",
       "      <td>NaN</td>\n",
       "      <td>NaN</td>\n",
       "      <td>NaN</td>\n",
       "      <td>NaN</td>\n",
       "      <td>0.0</td>\n",
       "      <td>Missing</td>\n",
       "      <td>Missing</td>\n",
       "      <td>Laboratory-confirmed case</td>\n",
       "      <td>Symptomatic</td>\n",
       "      <td>Yes</td>\n",
       "      <td>Missing</td>\n",
       "      <td>NaN</td>\n",
       "      <td>NaN</td>\n",
       "    </tr>\n",
       "    <tr>\n",
       "      <th>1</th>\n",
       "      <td>2020-02</td>\n",
       "      <td>NaN</td>\n",
       "      <td>NaN</td>\n",
       "      <td>NaN</td>\n",
       "      <td>NaN</td>\n",
       "      <td>NaN</td>\n",
       "      <td>NaN</td>\n",
       "      <td>NaN</td>\n",
       "      <td>NaN</td>\n",
       "      <td>3.0</td>\n",
       "      <td>0.0</td>\n",
       "      <td>Clinical evaluation</td>\n",
       "      <td>Yes</td>\n",
       "      <td>Laboratory-confirmed case</td>\n",
       "      <td>Symptomatic</td>\n",
       "      <td>Yes</td>\n",
       "      <td>Yes</td>\n",
       "      <td>NaN</td>\n",
       "      <td>Yes</td>\n",
       "    </tr>\n",
       "    <tr>\n",
       "      <th>2</th>\n",
       "      <td>2020-02</td>\n",
       "      <td>NaN</td>\n",
       "      <td>NaN</td>\n",
       "      <td>NaN</td>\n",
       "      <td>NaN</td>\n",
       "      <td>NaN</td>\n",
       "      <td>NaN</td>\n",
       "      <td>NaN</td>\n",
       "      <td>NaN</td>\n",
       "      <td>NaN</td>\n",
       "      <td>0.0</td>\n",
       "      <td>Clinical evaluation</td>\n",
       "      <td>Missing</td>\n",
       "      <td>Laboratory-confirmed case</td>\n",
       "      <td>Symptomatic</td>\n",
       "      <td>Yes</td>\n",
       "      <td>No</td>\n",
       "      <td>NaN</td>\n",
       "      <td>Yes</td>\n",
       "    </tr>\n",
       "    <tr>\n",
       "      <th>3</th>\n",
       "      <td>2020-08</td>\n",
       "      <td>NaN</td>\n",
       "      <td>NaN</td>\n",
       "      <td>NaN</td>\n",
       "      <td>NaN</td>\n",
       "      <td>NaN</td>\n",
       "      <td>NaN</td>\n",
       "      <td>NaN</td>\n",
       "      <td>NaN</td>\n",
       "      <td>0.0</td>\n",
       "      <td>NaN</td>\n",
       "      <td>Routine surveillance</td>\n",
       "      <td>Missing</td>\n",
       "      <td>Laboratory-confirmed case</td>\n",
       "      <td>Asymptomatic</td>\n",
       "      <td>No</td>\n",
       "      <td>No</td>\n",
       "      <td>Missing</td>\n",
       "      <td>Yes</td>\n",
       "    </tr>\n",
       "    <tr>\n",
       "      <th>4</th>\n",
       "      <td>2020-08</td>\n",
       "      <td>NaN</td>\n",
       "      <td>NaN</td>\n",
       "      <td>NaN</td>\n",
       "      <td>NaN</td>\n",
       "      <td>NaN</td>\n",
       "      <td>NaN</td>\n",
       "      <td>NaN</td>\n",
       "      <td>NaN</td>\n",
       "      <td>0.0</td>\n",
       "      <td>NaN</td>\n",
       "      <td>Routine surveillance</td>\n",
       "      <td>Missing</td>\n",
       "      <td>Laboratory-confirmed case</td>\n",
       "      <td>Missing</td>\n",
       "      <td>Missing</td>\n",
       "      <td>Missing</td>\n",
       "      <td>Missing</td>\n",
       "      <td>Yes</td>\n",
       "    </tr>\n",
       "    <tr>\n",
       "      <th>...</th>\n",
       "      <td>...</td>\n",
       "      <td>...</td>\n",
       "      <td>...</td>\n",
       "      <td>...</td>\n",
       "      <td>...</td>\n",
       "      <td>...</td>\n",
       "      <td>...</td>\n",
       "      <td>...</td>\n",
       "      <td>...</td>\n",
       "      <td>...</td>\n",
       "      <td>...</td>\n",
       "      <td>...</td>\n",
       "      <td>...</td>\n",
       "      <td>...</td>\n",
       "      <td>...</td>\n",
       "      <td>...</td>\n",
       "      <td>...</td>\n",
       "      <td>...</td>\n",
       "      <td>...</td>\n",
       "    </tr>\n",
       "    <tr>\n",
       "      <th>22507134</th>\n",
       "      <td>2020-12</td>\n",
       "      <td>AZ</td>\n",
       "      <td>4.0</td>\n",
       "      <td>YUMA</td>\n",
       "      <td>4027.0</td>\n",
       "      <td>65+ years</td>\n",
       "      <td>Male</td>\n",
       "      <td>White</td>\n",
       "      <td>Non-Hispanic/Latino</td>\n",
       "      <td>NaN</td>\n",
       "      <td>NaN</td>\n",
       "      <td>Missing</td>\n",
       "      <td>Missing</td>\n",
       "      <td>Laboratory-confirmed case</td>\n",
       "      <td>Missing</td>\n",
       "      <td>Yes</td>\n",
       "      <td>Missing</td>\n",
       "      <td>Yes</td>\n",
       "      <td>NaN</td>\n",
       "    </tr>\n",
       "    <tr>\n",
       "      <th>22507135</th>\n",
       "      <td>2020-12</td>\n",
       "      <td>AZ</td>\n",
       "      <td>4.0</td>\n",
       "      <td>YUMA</td>\n",
       "      <td>4027.0</td>\n",
       "      <td>65+ years</td>\n",
       "      <td>Male</td>\n",
       "      <td>White</td>\n",
       "      <td>Non-Hispanic/Latino</td>\n",
       "      <td>NaN</td>\n",
       "      <td>NaN</td>\n",
       "      <td>Missing</td>\n",
       "      <td>Missing</td>\n",
       "      <td>Laboratory-confirmed case</td>\n",
       "      <td>Missing</td>\n",
       "      <td>Missing</td>\n",
       "      <td>Missing</td>\n",
       "      <td>Yes</td>\n",
       "      <td>NaN</td>\n",
       "    </tr>\n",
       "    <tr>\n",
       "      <th>22507136</th>\n",
       "      <td>2020-12</td>\n",
       "      <td>AZ</td>\n",
       "      <td>4.0</td>\n",
       "      <td>YUMA</td>\n",
       "      <td>4027.0</td>\n",
       "      <td>65+ years</td>\n",
       "      <td>Male</td>\n",
       "      <td>White</td>\n",
       "      <td>Non-Hispanic/Latino</td>\n",
       "      <td>NaN</td>\n",
       "      <td>NaN</td>\n",
       "      <td>Missing</td>\n",
       "      <td>Missing</td>\n",
       "      <td>Laboratory-confirmed case</td>\n",
       "      <td>Missing</td>\n",
       "      <td>Yes</td>\n",
       "      <td>Missing</td>\n",
       "      <td>Yes</td>\n",
       "      <td>NaN</td>\n",
       "    </tr>\n",
       "    <tr>\n",
       "      <th>22507137</th>\n",
       "      <td>2020-12</td>\n",
       "      <td>AZ</td>\n",
       "      <td>4.0</td>\n",
       "      <td>YUMA</td>\n",
       "      <td>4027.0</td>\n",
       "      <td>65+ years</td>\n",
       "      <td>Male</td>\n",
       "      <td>White</td>\n",
       "      <td>Non-Hispanic/Latino</td>\n",
       "      <td>NaN</td>\n",
       "      <td>NaN</td>\n",
       "      <td>Missing</td>\n",
       "      <td>Missing</td>\n",
       "      <td>Laboratory-confirmed case</td>\n",
       "      <td>Missing</td>\n",
       "      <td>Yes</td>\n",
       "      <td>Missing</td>\n",
       "      <td>Yes</td>\n",
       "      <td>NaN</td>\n",
       "    </tr>\n",
       "    <tr>\n",
       "      <th>22507138</th>\n",
       "      <td>2020-12</td>\n",
       "      <td>AZ</td>\n",
       "      <td>4.0</td>\n",
       "      <td>YUMA</td>\n",
       "      <td>4027.0</td>\n",
       "      <td>65+ years</td>\n",
       "      <td>Male</td>\n",
       "      <td>White</td>\n",
       "      <td>Non-Hispanic/Latino</td>\n",
       "      <td>NaN</td>\n",
       "      <td>NaN</td>\n",
       "      <td>Missing</td>\n",
       "      <td>Missing</td>\n",
       "      <td>Laboratory-confirmed case</td>\n",
       "      <td>Missing</td>\n",
       "      <td>Yes</td>\n",
       "      <td>Missing</td>\n",
       "      <td>Yes</td>\n",
       "      <td>NaN</td>\n",
       "    </tr>\n",
       "  </tbody>\n",
       "</table>\n",
       "<p>22507139 rows × 19 columns</p>\n",
       "</div>"
      ],
      "text/plain": [
       "         case_month res_state  state_fips_code res_county  county_fips_code  \\\n",
       "0           2020-02       NaN              NaN        NaN               NaN   \n",
       "1           2020-02       NaN              NaN        NaN               NaN   \n",
       "2           2020-02       NaN              NaN        NaN               NaN   \n",
       "3           2020-08       NaN              NaN        NaN               NaN   \n",
       "4           2020-08       NaN              NaN        NaN               NaN   \n",
       "...             ...       ...              ...        ...               ...   \n",
       "22507134    2020-12        AZ              4.0       YUMA            4027.0   \n",
       "22507135    2020-12        AZ              4.0       YUMA            4027.0   \n",
       "22507136    2020-12        AZ              4.0       YUMA            4027.0   \n",
       "22507137    2020-12        AZ              4.0       YUMA            4027.0   \n",
       "22507138    2020-12        AZ              4.0       YUMA            4027.0   \n",
       "\n",
       "          age_group   sex   race            ethnicity  \\\n",
       "0               NaN   NaN    NaN                  NaN   \n",
       "1               NaN   NaN    NaN                  NaN   \n",
       "2               NaN   NaN    NaN                  NaN   \n",
       "3               NaN   NaN    NaN                  NaN   \n",
       "4               NaN   NaN    NaN                  NaN   \n",
       "...             ...   ...    ...                  ...   \n",
       "22507134  65+ years  Male  White  Non-Hispanic/Latino   \n",
       "22507135  65+ years  Male  White  Non-Hispanic/Latino   \n",
       "22507136  65+ years  Male  White  Non-Hispanic/Latino   \n",
       "22507137  65+ years  Male  White  Non-Hispanic/Latino   \n",
       "22507138  65+ years  Male  White  Non-Hispanic/Latino   \n",
       "\n",
       "          case_positive_specimen_interval  case_onset_interval  \\\n",
       "0                                     NaN                  0.0   \n",
       "1                                     3.0                  0.0   \n",
       "2                                     NaN                  0.0   \n",
       "3                                     0.0                  NaN   \n",
       "4                                     0.0                  NaN   \n",
       "...                                   ...                  ...   \n",
       "22507134                              NaN                  NaN   \n",
       "22507135                              NaN                  NaN   \n",
       "22507136                              NaN                  NaN   \n",
       "22507137                              NaN                  NaN   \n",
       "22507138                              NaN                  NaN   \n",
       "\n",
       "                       process exposure_yn             current_status  \\\n",
       "0                      Missing     Missing  Laboratory-confirmed case   \n",
       "1          Clinical evaluation         Yes  Laboratory-confirmed case   \n",
       "2          Clinical evaluation     Missing  Laboratory-confirmed case   \n",
       "3         Routine surveillance     Missing  Laboratory-confirmed case   \n",
       "4         Routine surveillance     Missing  Laboratory-confirmed case   \n",
       "...                        ...         ...                        ...   \n",
       "22507134               Missing     Missing  Laboratory-confirmed case   \n",
       "22507135               Missing     Missing  Laboratory-confirmed case   \n",
       "22507136               Missing     Missing  Laboratory-confirmed case   \n",
       "22507137               Missing     Missing  Laboratory-confirmed case   \n",
       "22507138               Missing     Missing  Laboratory-confirmed case   \n",
       "\n",
       "         symptom_status  hosp_yn   icu_yn death_yn underlying_conditions_yn  \n",
       "0           Symptomatic      Yes  Missing      NaN                      NaN  \n",
       "1           Symptomatic      Yes      Yes      NaN                      Yes  \n",
       "2           Symptomatic      Yes       No      NaN                      Yes  \n",
       "3          Asymptomatic       No       No  Missing                      Yes  \n",
       "4               Missing  Missing  Missing  Missing                      Yes  \n",
       "...                 ...      ...      ...      ...                      ...  \n",
       "22507134        Missing      Yes  Missing      Yes                      NaN  \n",
       "22507135        Missing  Missing  Missing      Yes                      NaN  \n",
       "22507136        Missing      Yes  Missing      Yes                      NaN  \n",
       "22507137        Missing      Yes  Missing      Yes                      NaN  \n",
       "22507138        Missing      Yes  Missing      Yes                      NaN  \n",
       "\n",
       "[22507139 rows x 19 columns]"
      ]
     },
     "execution_count": 2,
     "metadata": {},
     "output_type": "execute_result"
    }
   ],
   "source": [
    "header = list(pd.read_csv('data/COVID-19_Case_Surveillance_Public_Use_Data_with_Geography.csv', nrows=1))\n",
    "\n",
    "# one million times five\n",
    "chunksize = 1000000 * 5\n",
    "\n",
    "tfr = pd.read_csv('data/COVID-19_Case_Surveillance_Public_Use_Data_with_Geography.csv',\n",
    "                  chunksize = chunksize,\n",
    "                  iterator=True, dtype = {#'state_fips_code' : np.float32,\n",
    "                                          #'county_fips_code' : np.float32, \n",
    "                                          'case_positive_specimen_interval' : np.float32, \n",
    "                                          'case_onset_interval' : np.float32\n",
    "                                         },\n",
    "                  usecols = [i for i in header if i != 'state_fips_code' or i != 'county_fips_code']\n",
    "                 )\n",
    "\n",
    "df = pd.concat(tfr, ignore_index=True)\n",
    "\n",
    "df"
   ]
  },
  {
   "cell_type": "code",
   "execution_count": 3,
   "metadata": {},
   "outputs": [
    {
     "name": "stdout",
     "output_type": "stream",
     "text": [
      "<class 'pandas.core.frame.DataFrame'>\n",
      "RangeIndex: 22507139 entries, 0 to 22507138\n",
      "Data columns (total 19 columns):\n",
      " #   Column                           Dtype  \n",
      "---  ------                           -----  \n",
      " 0   case_month                       object \n",
      " 1   res_state                        object \n",
      " 2   state_fips_code                  float64\n",
      " 3   res_county                       object \n",
      " 4   county_fips_code                 float64\n",
      " 5   age_group                        object \n",
      " 6   sex                              object \n",
      " 7   race                             object \n",
      " 8   ethnicity                        object \n",
      " 9   case_positive_specimen_interval  float32\n",
      " 10  case_onset_interval              float32\n",
      " 11  process                          object \n",
      " 12  exposure_yn                      object \n",
      " 13  current_status                   object \n",
      " 14  symptom_status                   object \n",
      " 15  hosp_yn                          object \n",
      " 16  icu_yn                           object \n",
      " 17  death_yn                         object \n",
      " 18  underlying_conditions_yn         object \n",
      "dtypes: float32(2), float64(2), object(15)\n",
      "memory usage: 3.0+ GB\n"
     ]
    }
   ],
   "source": [
    "df.info()"
   ]
  },
  {
   "cell_type": "markdown",
   "metadata": {},
   "source": [
    "## Cleaning"
   ]
  },
  {
   "cell_type": "markdown",
   "metadata": {},
   "source": [
    "First thing first, I am going to delete the features that I don't think I want in my dataset. I am doing this first to help with the performance of the data set for the rest of the way  \n",
    "\n",
    "I have both state and county names so I am dropping the state and county fips features  \n",
    "\n",
    "At this moment I dont want the specimen interval features in the dataset."
   ]
  },
  {
   "cell_type": "code",
   "execution_count": 4,
   "metadata": {
    "scrolled": true
   },
   "outputs": [],
   "source": [
    "df.drop(columns=['state_fips_code',\n",
    "                 'county_fips_code',\n",
    "                 'case_positive_specimen_interval',\n",
    "                 'case_onset_interval'],\n",
    "        inplace=True)"
   ]
  },
  {
   "cell_type": "markdown",
   "metadata": {},
   "source": [
    "### res state"
   ]
  },
  {
   "cell_type": "code",
   "execution_count": 5,
   "metadata": {
    "scrolled": true
   },
   "outputs": [
    {
     "name": "stdout",
     "output_type": "stream",
     "text": [
      "<class 'pandas.core.frame.DataFrame'>\n",
      "Int64Index: 682 entries, 0 to 21789118\n",
      "Data columns (total 15 columns):\n",
      " #   Column                    Non-Null Count  Dtype \n",
      "---  ------                    --------------  ----- \n",
      " 0   case_month                682 non-null    object\n",
      " 1   res_state                 0 non-null      object\n",
      " 2   res_county                0 non-null      object\n",
      " 3   age_group                 11 non-null     object\n",
      " 4   sex                       0 non-null      object\n",
      " 5   race                      0 non-null      object\n",
      " 6   ethnicity                 0 non-null      object\n",
      " 7   process                   682 non-null    object\n",
      " 8   exposure_yn               682 non-null    object\n",
      " 9   current_status            682 non-null    object\n",
      " 10  symptom_status            682 non-null    object\n",
      " 11  hosp_yn                   682 non-null    object\n",
      " 12  icu_yn                    682 non-null    object\n",
      " 13  death_yn                  609 non-null    object\n",
      " 14  underlying_conditions_yn  146 non-null    object\n",
      "dtypes: object(15)\n",
      "memory usage: 85.2+ KB\n"
     ]
    }
   ],
   "source": [
    "df_missing_state = df[df['res_state'].isna()]\n",
    "df_missing_state.info()"
   ]
  },
  {
   "cell_type": "markdown",
   "metadata": {},
   "source": [
    ">anytime a person's 'state' is missing, we are also missing the person's 'county', 'sex', 'race', 'ethnicity', 'age group' and most are missing 'underlying condition yn'.\n",
    "\n",
    ">for now, I am going reduce the dataset of the 682 entries to 22,506,457 "
   ]
  },
  {
   "cell_type": "code",
   "execution_count": 6,
   "metadata": {},
   "outputs": [
    {
     "data": {
      "text/plain": [
       "count     22506457\n",
       "unique          54\n",
       "top             CA\n",
       "freq       3547519\n",
       "Name: res_state, dtype: object"
      ]
     },
     "execution_count": 6,
     "metadata": {},
     "output_type": "execute_result"
    }
   ],
   "source": [
    "df['res_state'].describe()"
   ]
  },
  {
   "cell_type": "code",
   "execution_count": 7,
   "metadata": {},
   "outputs": [],
   "source": [
    "df = df[df['res_state'].notnull()]"
   ]
  },
  {
   "cell_type": "markdown",
   "metadata": {},
   "source": [
    "> Res states include all 50 state in the United State plus these four extras:  \n",
    "> PR - Puerto Rico  \n",
    "> DC - Washington DC  \n",
    "> GU - Guam  \n",
    "> VI - Virgin Islands"
   ]
  },
  {
   "cell_type": "markdown",
   "metadata": {},
   "source": [
    "### res_county"
   ]
  },
  {
   "cell_type": "code",
   "execution_count": 8,
   "metadata": {},
   "outputs": [
    {
     "data": {
      "text/plain": [
       "1614807"
      ]
     },
     "execution_count": 8,
     "metadata": {},
     "output_type": "execute_result"
    }
   ],
   "source": [
    "df['res_county'].isna().sum()"
   ]
  },
  {
   "cell_type": "code",
   "execution_count": 9,
   "metadata": {
    "scrolled": true
   },
   "outputs": [
    {
     "data": {
      "text/plain": [
       "IN    277061\n",
       "GA    139212\n",
       "IA     94077\n",
       "TN     65958\n",
       "KY     60671\n",
       "KS     59604\n",
       "IL     59511\n",
       "VA     57901\n",
       "AL     51862\n",
       "AR     46718\n",
       "OK     43972\n",
       "NE     43341\n",
       "DC     42644\n",
       "MN     40566\n",
       "WI     39620\n",
       "MS     32665\n",
       "SD     32550\n",
       "TX     30434\n",
       "MT     30150\n",
       "UT     26587\n",
       "CO     24889\n",
       "NC     24052\n",
       "PR     23988\n",
       "MD     19415\n",
       "ID     19371\n",
       "MI     19333\n",
       "FL     19292\n",
       "MO     17307\n",
       "NM     14604\n",
       "LA     13107\n",
       "OH     12873\n",
       "AK     10826\n",
       "SC     10201\n",
       "NY      9721\n",
       "NJ      9629\n",
       "WA      9307\n",
       "PA      8259\n",
       "WV      7798\n",
       "GU      7067\n",
       "ND      6914\n",
       "CA      6871\n",
       "OR      6532\n",
       "ME      6345\n",
       "VT      5566\n",
       "NV      4884\n",
       "MA      4074\n",
       "AZ      3665\n",
       "HI      2951\n",
       "DE      2897\n",
       "VI      2588\n",
       "NH      2294\n",
       "CT      1450\n",
       "WY      1276\n",
       "RI       357\n",
       "Name: res_state, dtype: int64"
      ]
     },
     "execution_count": 9,
     "metadata": {},
     "output_type": "execute_result"
    }
   ],
   "source": [
    "df[df['res_county'].isna()]['res_state'].value_counts()"
   ]
  },
  {
   "cell_type": "code",
   "execution_count": 10,
   "metadata": {},
   "outputs": [
    {
     "data": {
      "text/plain": [
       "54"
      ]
     },
     "execution_count": 10,
     "metadata": {},
     "output_type": "execute_result"
    }
   ],
   "source": [
    "len(df[df['res_county'].isna()]['res_state'].value_counts())"
   ]
  },
  {
   "cell_type": "markdown",
   "metadata": {},
   "source": [
    "> 'res_county' feature is missing 1,614,807 entries spread out between all 54 'res_state's"
   ]
  },
  {
   "cell_type": "code",
   "execution_count": 11,
   "metadata": {},
   "outputs": [
    {
     "name": "stderr",
     "output_type": "stream",
     "text": [
      "C:\\Users\\Deric\\anaconda3\\envs\\learn-env\\lib\\site-packages\\pandas\\core\\series.py:4536: SettingWithCopyWarning: \n",
      "A value is trying to be set on a copy of a slice from a DataFrame\n",
      "\n",
      "See the caveats in the documentation: https://pandas.pydata.org/pandas-docs/stable/user_guide/indexing.html#returning-a-view-versus-a-copy\n",
      "  downcast=downcast,\n"
     ]
    }
   ],
   "source": [
    "df['res_county'].fillna('Missing', inplace=True)"
   ]
  },
  {
   "cell_type": "markdown",
   "metadata": {},
   "source": [
    "### case_month"
   ]
  },
  {
   "cell_type": "code",
   "execution_count": 12,
   "metadata": {
    "scrolled": true
   },
   "outputs": [
    {
     "data": {
      "text/plain": [
       "0"
      ]
     },
     "execution_count": 12,
     "metadata": {},
     "output_type": "execute_result"
    }
   ],
   "source": [
    "df['case_month'].isna().sum()"
   ]
  },
  {
   "cell_type": "code",
   "execution_count": 13,
   "metadata": {},
   "outputs": [
    {
     "data": {
      "text/plain": [
       "count     22506457\n",
       "unique          15\n",
       "top        2020-12\n",
       "freq       4852575\n",
       "Name: case_month, dtype: object"
      ]
     },
     "execution_count": 13,
     "metadata": {},
     "output_type": "execute_result"
    }
   ],
   "source": [
    "df['case_month'].describe()"
   ]
  },
  {
   "cell_type": "code",
   "execution_count": 14,
   "metadata": {},
   "outputs": [
    {
     "data": {
      "text/plain": [
       "2020-12    4852575\n",
       "2021-01    3970329\n",
       "2020-11    3482415\n",
       "2020-10    1757756\n",
       "2021-02    1568200\n",
       "2020-07    1376516\n",
       "2020-09    1047257\n",
       "2020-08    1030610\n",
       "2020-06     880507\n",
       "2020-04     783269\n",
       "2021-03     714640\n",
       "2020-05     667374\n",
       "2020-03     367284\n",
       "2020-02       4589\n",
       "2020-01       3136\n",
       "Name: case_month, dtype: int64"
      ]
     },
     "execution_count": 14,
     "metadata": {},
     "output_type": "execute_result"
    }
   ],
   "source": [
    "df['case_month'].value_counts()"
   ]
  },
  {
   "cell_type": "markdown",
   "metadata": {},
   "source": [
    "Typically I would separate the year and the month, However there is only 15 months and over 22 million data entries, I am going to leave it in one column for now."
   ]
  },
  {
   "cell_type": "markdown",
   "metadata": {},
   "source": [
    "### age_group"
   ]
  },
  {
   "cell_type": "code",
   "execution_count": 15,
   "metadata": {},
   "outputs": [
    {
     "data": {
      "text/plain": [
       "242099"
      ]
     },
     "execution_count": 15,
     "metadata": {},
     "output_type": "execute_result"
    }
   ],
   "source": [
    "df['age_group'].isna().sum()"
   ]
  },
  {
   "cell_type": "code",
   "execution_count": 16,
   "metadata": {},
   "outputs": [
    {
     "name": "stderr",
     "output_type": "stream",
     "text": [
      "C:\\Users\\Deric\\anaconda3\\envs\\learn-env\\lib\\site-packages\\pandas\\core\\series.py:4536: SettingWithCopyWarning: \n",
      "A value is trying to be set on a copy of a slice from a DataFrame\n",
      "\n",
      "See the caveats in the documentation: https://pandas.pydata.org/pandas-docs/stable/user_guide/indexing.html#returning-a-view-versus-a-copy\n",
      "  downcast=downcast,\n"
     ]
    }
   ],
   "source": [
    "df['age_group'].fillna('Missing', inplace=True)"
   ]
  },
  {
   "cell_type": "code",
   "execution_count": 17,
   "metadata": {
    "scrolled": false
   },
   "outputs": [
    {
     "data": {
      "text/plain": [
       "18 to 49 years    11911259\n",
       "50 to 64 years     4525363\n",
       "65+ years          3109385\n",
       "0 - 17 years       2559165\n",
       "Missing             401285\n",
       "Name: age_group, dtype: int64"
      ]
     },
     "execution_count": 17,
     "metadata": {},
     "output_type": "execute_result"
    }
   ],
   "source": [
    "df['age_group'].value_counts()"
   ]
  },
  {
   "cell_type": "markdown",
   "metadata": {},
   "source": [
    "### sex"
   ]
  },
  {
   "cell_type": "code",
   "execution_count": 18,
   "metadata": {},
   "outputs": [
    {
     "data": {
      "text/plain": [
       "644342"
      ]
     },
     "execution_count": 18,
     "metadata": {},
     "output_type": "execute_result"
    }
   ],
   "source": [
    "df['sex'].isna().sum()"
   ]
  },
  {
   "cell_type": "code",
   "execution_count": 19,
   "metadata": {},
   "outputs": [],
   "source": [
    "df['age_group'].fillna('Missing', inplace=True)"
   ]
  },
  {
   "cell_type": "code",
   "execution_count": 20,
   "metadata": {},
   "outputs": [
    {
     "data": {
      "text/plain": [
       "Female     11337841\n",
       "Male       10334629\n",
       "Unknown      158104\n",
       "Missing       31530\n",
       "Other            11\n",
       "Name: sex, dtype: int64"
      ]
     },
     "execution_count": 20,
     "metadata": {},
     "output_type": "execute_result"
    }
   ],
   "source": [
    "df['sex'].value_counts()"
   ]
  },
  {
   "cell_type": "markdown",
   "metadata": {},
   "source": [
    "### race"
   ]
  },
  {
   "cell_type": "code",
   "execution_count": 21,
   "metadata": {},
   "outputs": [
    {
     "data": {
      "text/plain": [
       "3753372"
      ]
     },
     "execution_count": 21,
     "metadata": {},
     "output_type": "execute_result"
    }
   ],
   "source": [
    "df['race'].isna().sum()"
   ]
  },
  {
   "cell_type": "code",
   "execution_count": 22,
   "metadata": {},
   "outputs": [],
   "source": [
    "df['race'].fillna('Missing', inplace=True)"
   ]
  },
  {
   "cell_type": "code",
   "execution_count": 23,
   "metadata": {},
   "outputs": [
    {
     "data": {
      "text/plain": [
       "White                                     9540953\n",
       "Missing                                   5714493\n",
       "Unknown                                   3712716\n",
       "Black                                     1670933\n",
       "Multiple/Other                            1227259\n",
       "Asian                                      459550\n",
       "American Indian/Alaska Native              152382\n",
       "Native Hawaiian/Other Pacific Islander      28171\n",
       "Name: race, dtype: int64"
      ]
     },
     "execution_count": 23,
     "metadata": {},
     "output_type": "execute_result"
    }
   ],
   "source": [
    "df['race'].value_counts()"
   ]
  },
  {
   "cell_type": "markdown",
   "metadata": {},
   "source": [
    "### ethnicity"
   ]
  },
  {
   "cell_type": "code",
   "execution_count": 24,
   "metadata": {},
   "outputs": [
    {
     "data": {
      "text/plain": [
       "Non-Hispanic/Latino    9168555\n",
       "Unknown                5694524\n",
       "Missing                1664232\n",
       "Hispanic/Latino        1487413\n",
       "Name: ethnicity, dtype: int64"
      ]
     },
     "execution_count": 24,
     "metadata": {},
     "output_type": "execute_result"
    }
   ],
   "source": [
    "df['ethnicity'].value_counts()"
   ]
  },
  {
   "cell_type": "markdown",
   "metadata": {},
   "source": [
    ">I understand that there is a subtle difference between race and ethnicity, Since I have a more detailed feature of race and the feature ethnicity dosen't account for many categories, I am going to delete this feature and just rely on race."
   ]
  },
  {
   "cell_type": "code",
   "execution_count": 25,
   "metadata": {},
   "outputs": [
    {
     "name": "stderr",
     "output_type": "stream",
     "text": [
      "C:\\Users\\Deric\\anaconda3\\envs\\learn-env\\lib\\site-packages\\pandas\\core\\frame.py:4174: SettingWithCopyWarning: \n",
      "A value is trying to be set on a copy of a slice from a DataFrame\n",
      "\n",
      "See the caveats in the documentation: https://pandas.pydata.org/pandas-docs/stable/user_guide/indexing.html#returning-a-view-versus-a-copy\n",
      "  errors=errors,\n"
     ]
    }
   ],
   "source": [
    "df.drop(columns=['ethnicity'], inplace=True)"
   ]
  },
  {
   "cell_type": "markdown",
   "metadata": {},
   "source": [
    "### process"
   ]
  },
  {
   "cell_type": "code",
   "execution_count": 26,
   "metadata": {
    "scrolled": true
   },
   "outputs": [
    {
     "data": {
      "text/plain": [
       "0"
      ]
     },
     "execution_count": 26,
     "metadata": {},
     "output_type": "execute_result"
    }
   ],
   "source": [
    "df['process'].isna().sum()"
   ]
  },
  {
   "cell_type": "code",
   "execution_count": 27,
   "metadata": {},
   "outputs": [
    {
     "data": {
      "text/plain": [
       "Missing                            21543962\n",
       "Clinical evaluation                  537966\n",
       "Routine surveillance                 207188\n",
       "Multiple                             115946\n",
       "Contact tracing of case patient       70068\n",
       "Unknown                               22030\n",
       "Other                                  9297\n",
       "Name: process, dtype: int64"
      ]
     },
     "execution_count": 27,
     "metadata": {},
     "output_type": "execute_result"
    }
   ],
   "source": [
    "df['process'].value_counts()"
   ]
  },
  {
   "cell_type": "markdown",
   "metadata": {},
   "source": [
    "### exposure_yn"
   ]
  },
  {
   "cell_type": "code",
   "execution_count": 28,
   "metadata": {},
   "outputs": [
    {
     "data": {
      "text/plain": [
       "0"
      ]
     },
     "execution_count": 28,
     "metadata": {},
     "output_type": "execute_result"
    }
   ],
   "source": [
    "df['exposure_yn'].isna().sum()"
   ]
  },
  {
   "cell_type": "code",
   "execution_count": 29,
   "metadata": {},
   "outputs": [
    {
     "data": {
      "text/plain": [
       "Missing    20434459\n",
       "Yes         1551517\n",
       "Unknown      520481\n",
       "Name: exposure_yn, dtype: int64"
      ]
     },
     "execution_count": 29,
     "metadata": {},
     "output_type": "execute_result"
    }
   ],
   "source": [
    "df['exposure_yn'].value_counts()"
   ]
  },
  {
   "cell_type": "markdown",
   "metadata": {},
   "source": [
    "### symptom_status"
   ]
  },
  {
   "cell_type": "code",
   "execution_count": 30,
   "metadata": {},
   "outputs": [
    {
     "data": {
      "text/plain": [
       "0"
      ]
     },
     "execution_count": 30,
     "metadata": {},
     "output_type": "execute_result"
    }
   ],
   "source": [
    "df['symptom_status'].isna().sum()"
   ]
  },
  {
   "cell_type": "code",
   "execution_count": 31,
   "metadata": {},
   "outputs": [
    {
     "data": {
      "text/plain": [
       "Symptomatic     9696774\n",
       "Missing         8316489\n",
       "Unknown         4109737\n",
       "Asymptomatic     383457\n",
       "Name: symptom_status, dtype: int64"
      ]
     },
     "execution_count": 31,
     "metadata": {},
     "output_type": "execute_result"
    }
   ],
   "source": [
    "df['symptom_status'].value_counts()"
   ]
  },
  {
   "cell_type": "markdown",
   "metadata": {},
   "source": [
    "### hosp_yn"
   ]
  },
  {
   "cell_type": "code",
   "execution_count": 32,
   "metadata": {},
   "outputs": [
    {
     "data": {
      "text/plain": [
       "0"
      ]
     },
     "execution_count": 32,
     "metadata": {},
     "output_type": "execute_result"
    }
   ],
   "source": [
    "df['hosp_yn'].isna().sum()"
   ]
  },
  {
   "cell_type": "code",
   "execution_count": 33,
   "metadata": {},
   "outputs": [
    {
     "data": {
      "text/plain": [
       "Missing    9882363\n",
       "No         8031678\n",
       "Unknown    3513930\n",
       "Yes        1078486\n",
       "Name: hosp_yn, dtype: int64"
      ]
     },
     "execution_count": 33,
     "metadata": {},
     "output_type": "execute_result"
    }
   ],
   "source": [
    "df['hosp_yn'].value_counts()"
   ]
  },
  {
   "cell_type": "markdown",
   "metadata": {},
   "source": [
    "### icu_yn"
   ]
  },
  {
   "cell_type": "code",
   "execution_count": 34,
   "metadata": {},
   "outputs": [
    {
     "data": {
      "text/plain": [
       "0"
      ]
     },
     "execution_count": 34,
     "metadata": {},
     "output_type": "execute_result"
    }
   ],
   "source": [
    "df['icu_yn'].isna().sum()"
   ]
  },
  {
   "cell_type": "code",
   "execution_count": 35,
   "metadata": {},
   "outputs": [
    {
     "data": {
      "text/plain": [
       "Missing    18402205\n",
       "Unknown     2690360\n",
       "No          1311728\n",
       "Yes          102164\n",
       "Name: icu_yn, dtype: int64"
      ]
     },
     "execution_count": 35,
     "metadata": {},
     "output_type": "execute_result"
    }
   ],
   "source": [
    "df['icu_yn'].value_counts()"
   ]
  },
  {
   "cell_type": "markdown",
   "metadata": {},
   "source": [
    "### death_yn"
   ]
  },
  {
   "cell_type": "code",
   "execution_count": 36,
   "metadata": {},
   "outputs": [
    {
     "data": {
      "text/plain": [
       "1043414"
      ]
     },
     "execution_count": 36,
     "metadata": {},
     "output_type": "execute_result"
    }
   ],
   "source": [
    "df['death_yn'].isna().sum()"
   ]
  },
  {
   "cell_type": "code",
   "execution_count": 37,
   "metadata": {},
   "outputs": [],
   "source": [
    "df['death_yn'].fillna('Missing', inplace=True)"
   ]
  },
  {
   "cell_type": "code",
   "execution_count": 38,
   "metadata": {
    "scrolled": false
   },
   "outputs": [
    {
     "data": {
      "text/plain": [
       "No         11066699\n",
       "Missing     9034867\n",
       "Unknown     2159863\n",
       "Yes          245028\n",
       "Name: death_yn, dtype: int64"
      ]
     },
     "execution_count": 38,
     "metadata": {},
     "output_type": "execute_result"
    }
   ],
   "source": [
    "df['death_yn'].value_counts()"
   ]
  },
  {
   "cell_type": "markdown",
   "metadata": {},
   "source": [
    "### underlying_conditions_yn"
   ]
  },
  {
   "cell_type": "code",
   "execution_count": 39,
   "metadata": {},
   "outputs": [
    {
     "data": {
      "text/plain": [
       "21006836"
      ]
     },
     "execution_count": 39,
     "metadata": {},
     "output_type": "execute_result"
    }
   ],
   "source": [
    "df['underlying_conditions_yn'].isna().sum()"
   ]
  },
  {
   "cell_type": "code",
   "execution_count": 40,
   "metadata": {},
   "outputs": [],
   "source": [
    "df['underlying_conditions_yn'].fillna('Missing', inplace=True)"
   ]
  },
  {
   "cell_type": "code",
   "execution_count": 41,
   "metadata": {},
   "outputs": [
    {
     "data": {
      "text/plain": [
       "Missing    21006836\n",
       "Yes         1482254\n",
       "No            17367\n",
       "Name: underlying_conditions_yn, dtype: int64"
      ]
     },
     "execution_count": 41,
     "metadata": {},
     "output_type": "execute_result"
    }
   ],
   "source": [
    "df['underlying_conditions_yn'].value_counts()"
   ]
  },
  {
   "cell_type": "markdown",
   "metadata": {},
   "source": [
    "## Export"
   ]
  },
  {
   "cell_type": "markdown",
   "metadata": {},
   "source": [
    "Due to how large the dataset is, I'm going to continue the EDA in a separate notebook."
   ]
  },
  {
   "cell_type": "code",
   "execution_count": 42,
   "metadata": {
    "scrolled": true
   },
   "outputs": [
    {
     "data": {
      "text/html": [
       "<div>\n",
       "<style scoped>\n",
       "    .dataframe tbody tr th:only-of-type {\n",
       "        vertical-align: middle;\n",
       "    }\n",
       "\n",
       "    .dataframe tbody tr th {\n",
       "        vertical-align: top;\n",
       "    }\n",
       "\n",
       "    .dataframe thead th {\n",
       "        text-align: right;\n",
       "    }\n",
       "</style>\n",
       "<table border=\"1\" class=\"dataframe\">\n",
       "  <thead>\n",
       "    <tr style=\"text-align: right;\">\n",
       "      <th></th>\n",
       "      <th>case_month</th>\n",
       "      <th>res_state</th>\n",
       "      <th>res_county</th>\n",
       "      <th>age_group</th>\n",
       "      <th>sex</th>\n",
       "      <th>race</th>\n",
       "      <th>process</th>\n",
       "      <th>exposure_yn</th>\n",
       "      <th>current_status</th>\n",
       "      <th>symptom_status</th>\n",
       "      <th>hosp_yn</th>\n",
       "      <th>icu_yn</th>\n",
       "      <th>death_yn</th>\n",
       "      <th>underlying_conditions_yn</th>\n",
       "    </tr>\n",
       "  </thead>\n",
       "  <tbody>\n",
       "    <tr>\n",
       "      <th>66</th>\n",
       "      <td>2020-04</td>\n",
       "      <td>AK</td>\n",
       "      <td>Missing</td>\n",
       "      <td>Missing</td>\n",
       "      <td>NaN</td>\n",
       "      <td>Missing</td>\n",
       "      <td>Routine surveillance</td>\n",
       "      <td>Yes</td>\n",
       "      <td>Laboratory-confirmed case</td>\n",
       "      <td>Symptomatic</td>\n",
       "      <td>Yes</td>\n",
       "      <td>No</td>\n",
       "      <td>Missing</td>\n",
       "      <td>Yes</td>\n",
       "    </tr>\n",
       "    <tr>\n",
       "      <th>67</th>\n",
       "      <td>2020-07</td>\n",
       "      <td>AL</td>\n",
       "      <td>Missing</td>\n",
       "      <td>Missing</td>\n",
       "      <td>NaN</td>\n",
       "      <td>Missing</td>\n",
       "      <td>Missing</td>\n",
       "      <td>Missing</td>\n",
       "      <td>Laboratory-confirmed case</td>\n",
       "      <td>Symptomatic</td>\n",
       "      <td>Yes</td>\n",
       "      <td>Missing</td>\n",
       "      <td>Missing</td>\n",
       "      <td>Missing</td>\n",
       "    </tr>\n",
       "    <tr>\n",
       "      <th>68</th>\n",
       "      <td>2020-07</td>\n",
       "      <td>AL</td>\n",
       "      <td>Missing</td>\n",
       "      <td>Missing</td>\n",
       "      <td>NaN</td>\n",
       "      <td>Missing</td>\n",
       "      <td>Missing</td>\n",
       "      <td>Missing</td>\n",
       "      <td>Laboratory-confirmed case</td>\n",
       "      <td>Symptomatic</td>\n",
       "      <td>Yes</td>\n",
       "      <td>Missing</td>\n",
       "      <td>Missing</td>\n",
       "      <td>Missing</td>\n",
       "    </tr>\n",
       "    <tr>\n",
       "      <th>69</th>\n",
       "      <td>2021-02</td>\n",
       "      <td>AL</td>\n",
       "      <td>Missing</td>\n",
       "      <td>Missing</td>\n",
       "      <td>NaN</td>\n",
       "      <td>Missing</td>\n",
       "      <td>Missing</td>\n",
       "      <td>Missing</td>\n",
       "      <td>Laboratory-confirmed case</td>\n",
       "      <td>Missing</td>\n",
       "      <td>Missing</td>\n",
       "      <td>Missing</td>\n",
       "      <td>Missing</td>\n",
       "      <td>Missing</td>\n",
       "    </tr>\n",
       "    <tr>\n",
       "      <th>70</th>\n",
       "      <td>2021-02</td>\n",
       "      <td>AL</td>\n",
       "      <td>Missing</td>\n",
       "      <td>Missing</td>\n",
       "      <td>NaN</td>\n",
       "      <td>Missing</td>\n",
       "      <td>Missing</td>\n",
       "      <td>Missing</td>\n",
       "      <td>Laboratory-confirmed case</td>\n",
       "      <td>Missing</td>\n",
       "      <td>Missing</td>\n",
       "      <td>Missing</td>\n",
       "      <td>Missing</td>\n",
       "      <td>Missing</td>\n",
       "    </tr>\n",
       "    <tr>\n",
       "      <th>...</th>\n",
       "      <td>...</td>\n",
       "      <td>...</td>\n",
       "      <td>...</td>\n",
       "      <td>...</td>\n",
       "      <td>...</td>\n",
       "      <td>...</td>\n",
       "      <td>...</td>\n",
       "      <td>...</td>\n",
       "      <td>...</td>\n",
       "      <td>...</td>\n",
       "      <td>...</td>\n",
       "      <td>...</td>\n",
       "      <td>...</td>\n",
       "      <td>...</td>\n",
       "    </tr>\n",
       "    <tr>\n",
       "      <th>22507134</th>\n",
       "      <td>2020-12</td>\n",
       "      <td>AZ</td>\n",
       "      <td>YUMA</td>\n",
       "      <td>65+ years</td>\n",
       "      <td>Male</td>\n",
       "      <td>White</td>\n",
       "      <td>Missing</td>\n",
       "      <td>Missing</td>\n",
       "      <td>Laboratory-confirmed case</td>\n",
       "      <td>Missing</td>\n",
       "      <td>Yes</td>\n",
       "      <td>Missing</td>\n",
       "      <td>Yes</td>\n",
       "      <td>Missing</td>\n",
       "    </tr>\n",
       "    <tr>\n",
       "      <th>22507135</th>\n",
       "      <td>2020-12</td>\n",
       "      <td>AZ</td>\n",
       "      <td>YUMA</td>\n",
       "      <td>65+ years</td>\n",
       "      <td>Male</td>\n",
       "      <td>White</td>\n",
       "      <td>Missing</td>\n",
       "      <td>Missing</td>\n",
       "      <td>Laboratory-confirmed case</td>\n",
       "      <td>Missing</td>\n",
       "      <td>Missing</td>\n",
       "      <td>Missing</td>\n",
       "      <td>Yes</td>\n",
       "      <td>Missing</td>\n",
       "    </tr>\n",
       "    <tr>\n",
       "      <th>22507136</th>\n",
       "      <td>2020-12</td>\n",
       "      <td>AZ</td>\n",
       "      <td>YUMA</td>\n",
       "      <td>65+ years</td>\n",
       "      <td>Male</td>\n",
       "      <td>White</td>\n",
       "      <td>Missing</td>\n",
       "      <td>Missing</td>\n",
       "      <td>Laboratory-confirmed case</td>\n",
       "      <td>Missing</td>\n",
       "      <td>Yes</td>\n",
       "      <td>Missing</td>\n",
       "      <td>Yes</td>\n",
       "      <td>Missing</td>\n",
       "    </tr>\n",
       "    <tr>\n",
       "      <th>22507137</th>\n",
       "      <td>2020-12</td>\n",
       "      <td>AZ</td>\n",
       "      <td>YUMA</td>\n",
       "      <td>65+ years</td>\n",
       "      <td>Male</td>\n",
       "      <td>White</td>\n",
       "      <td>Missing</td>\n",
       "      <td>Missing</td>\n",
       "      <td>Laboratory-confirmed case</td>\n",
       "      <td>Missing</td>\n",
       "      <td>Yes</td>\n",
       "      <td>Missing</td>\n",
       "      <td>Yes</td>\n",
       "      <td>Missing</td>\n",
       "    </tr>\n",
       "    <tr>\n",
       "      <th>22507138</th>\n",
       "      <td>2020-12</td>\n",
       "      <td>AZ</td>\n",
       "      <td>YUMA</td>\n",
       "      <td>65+ years</td>\n",
       "      <td>Male</td>\n",
       "      <td>White</td>\n",
       "      <td>Missing</td>\n",
       "      <td>Missing</td>\n",
       "      <td>Laboratory-confirmed case</td>\n",
       "      <td>Missing</td>\n",
       "      <td>Yes</td>\n",
       "      <td>Missing</td>\n",
       "      <td>Yes</td>\n",
       "      <td>Missing</td>\n",
       "    </tr>\n",
       "  </tbody>\n",
       "</table>\n",
       "<p>22506457 rows × 14 columns</p>\n",
       "</div>"
      ],
      "text/plain": [
       "         case_month res_state res_county  age_group   sex     race  \\\n",
       "66          2020-04        AK    Missing    Missing   NaN  Missing   \n",
       "67          2020-07        AL    Missing    Missing   NaN  Missing   \n",
       "68          2020-07        AL    Missing    Missing   NaN  Missing   \n",
       "69          2021-02        AL    Missing    Missing   NaN  Missing   \n",
       "70          2021-02        AL    Missing    Missing   NaN  Missing   \n",
       "...             ...       ...        ...        ...   ...      ...   \n",
       "22507134    2020-12        AZ       YUMA  65+ years  Male    White   \n",
       "22507135    2020-12        AZ       YUMA  65+ years  Male    White   \n",
       "22507136    2020-12        AZ       YUMA  65+ years  Male    White   \n",
       "22507137    2020-12        AZ       YUMA  65+ years  Male    White   \n",
       "22507138    2020-12        AZ       YUMA  65+ years  Male    White   \n",
       "\n",
       "                       process exposure_yn             current_status  \\\n",
       "66        Routine surveillance         Yes  Laboratory-confirmed case   \n",
       "67                     Missing     Missing  Laboratory-confirmed case   \n",
       "68                     Missing     Missing  Laboratory-confirmed case   \n",
       "69                     Missing     Missing  Laboratory-confirmed case   \n",
       "70                     Missing     Missing  Laboratory-confirmed case   \n",
       "...                        ...         ...                        ...   \n",
       "22507134               Missing     Missing  Laboratory-confirmed case   \n",
       "22507135               Missing     Missing  Laboratory-confirmed case   \n",
       "22507136               Missing     Missing  Laboratory-confirmed case   \n",
       "22507137               Missing     Missing  Laboratory-confirmed case   \n",
       "22507138               Missing     Missing  Laboratory-confirmed case   \n",
       "\n",
       "         symptom_status  hosp_yn   icu_yn death_yn underlying_conditions_yn  \n",
       "66          Symptomatic      Yes       No  Missing                      Yes  \n",
       "67          Symptomatic      Yes  Missing  Missing                  Missing  \n",
       "68          Symptomatic      Yes  Missing  Missing                  Missing  \n",
       "69              Missing  Missing  Missing  Missing                  Missing  \n",
       "70              Missing  Missing  Missing  Missing                  Missing  \n",
       "...                 ...      ...      ...      ...                      ...  \n",
       "22507134        Missing      Yes  Missing      Yes                  Missing  \n",
       "22507135        Missing  Missing  Missing      Yes                  Missing  \n",
       "22507136        Missing      Yes  Missing      Yes                  Missing  \n",
       "22507137        Missing      Yes  Missing      Yes                  Missing  \n",
       "22507138        Missing      Yes  Missing      Yes                  Missing  \n",
       "\n",
       "[22506457 rows x 14 columns]"
      ]
     },
     "execution_count": 42,
     "metadata": {},
     "output_type": "execute_result"
    }
   ],
   "source": [
    "df"
   ]
  },
  {
   "cell_type": "code",
   "execution_count": 43,
   "metadata": {},
   "outputs": [],
   "source": [
    "df.to_csv('data/cleaned_cdc_covid19.csv')"
   ]
  },
  {
   "cell_type": "code",
   "execution_count": null,
   "metadata": {},
   "outputs": [],
   "source": []
  }
 ],
 "metadata": {
  "kernelspec": {
   "display_name": "Python 3",
   "language": "python",
   "name": "python3"
  },
  "language_info": {
   "codemirror_mode": {
    "name": "ipython",
    "version": 3
   },
   "file_extension": ".py",
   "mimetype": "text/x-python",
   "name": "python",
   "nbconvert_exporter": "python",
   "pygments_lexer": "ipython3",
   "version": "3.6.9"
  },
  "toc": {
   "base_numbering": 1,
   "nav_menu": {},
   "number_sections": true,
   "sideBar": true,
   "skip_h1_title": false,
   "title_cell": "Table of Contents",
   "title_sidebar": "Contents",
   "toc_cell": false,
   "toc_position": {},
   "toc_section_display": true,
   "toc_window_display": true
  }
 },
 "nbformat": 4,
 "nbformat_minor": 4
}
